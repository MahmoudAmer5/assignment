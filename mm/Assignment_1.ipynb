{
  "nbformat": 4,
  "nbformat_minor": 0,
  "metadata": {
    "colab": {
      "provenance": [],
      "collapsed_sections": []
    },
    "kernelspec": {
      "name": "python3",
      "display_name": "Python 3"
    },
    "language_info": {
      "name": "python"
    }
  },
  "cells": [
    {
      "cell_type": "code",
      "execution_count": null,
      "metadata": {
        "id": "F-qI8VxUCTNM",
        "outputId": "e4839d41-481e-4164-9d0d-36eaffa30dd8",
        "colab": {
          "base_uri": "https://localhost:8080/"
        }
      },
      "outputs": [
        {
          "output_type": "stream",
          "name": "stdout",
          "text": [
            "1\n",
            "22\n",
            "333\n",
            "4444\n",
            "55555\n"
          ]
        }
      ],
      "source": [
        "for i in range(1,6):\n",
        "    print(str(i)*i)"
      ]
    },
    {
      "cell_type": "code",
      "source": [
        "\n",
        "li1 = []\n",
        "for i in range(0,101):\n",
        "    li1.append(str(i))\n",
        "for i in range(0,101):\n",
        "    x = int(li1[i])%5\n",
        "    if x == 0 :\n",
        "        print(li1[i])"
      ],
      "metadata": {
        "colab": {
          "base_uri": "https://localhost:8080/"
        },
        "id": "sgv5hZPfCpkY",
        "outputId": "98b9143a-d491-49f8-9129-a2ff86a997ed"
      },
      "execution_count": null,
      "outputs": [
        {
          "output_type": "stream",
          "name": "stdout",
          "text": [
            "0\n",
            "5\n",
            "10\n",
            "15\n",
            "20\n",
            "25\n",
            "30\n",
            "35\n",
            "40\n",
            "45\n",
            "50\n",
            "55\n",
            "60\n",
            "65\n",
            "70\n",
            "75\n",
            "80\n",
            "85\n",
            "90\n",
            "95\n",
            "100\n"
          ]
        }
      ]
    },
    {
      "cell_type": "code",
      "source": [
        "strx = \"Emma is a good developer.Emma is a writer\"\n",
        "y = \"Emma\"\n",
        "z = 0\n",
        "for i in range(0,len(strx)):\n",
        "    if strx[i:i+4] == \"Emma\" :\n",
        "        strx.replace(strx[i:i+4],\"\")\n",
        "        z += 1\n",
        "print(z)"
      ],
      "metadata": {
        "colab": {
          "base_uri": "https://localhost:8080/"
        },
        "id": "M8tRbi0gGqCV",
        "outputId": "9de92770-9eb2-44f5-c65a-9359da750ddc"
      },
      "execution_count": null,
      "outputs": [
        {
          "output_type": "stream",
          "name": "stdout",
          "text": [
            "2\n"
          ]
        }
      ]
    },
    {
      "cell_type": "code",
      "source": [
        "list1 = [10,20,30,40,10]\n",
        "list2 = [75,65,35,75,30]\n",
        "if list1[0] == list1[-1] :\n",
        "    print(\"true\")\n",
        "else:\n",
        "    print(\"false\")\n",
        "\n",
        "if list2[0] == list2[-1] :\n",
        "    print(\"true\")\n",
        "else:\n",
        "    print(\"false\")"
      ],
      "metadata": {
        "colab": {
          "base_uri": "https://localhost:8080/"
        },
        "id": "V-tckmbsJ_Vc",
        "outputId": "373db181-30d5-4bb7-e6ec-98d2d7ef1f2f"
      },
      "execution_count": null,
      "outputs": [
        {
          "output_type": "stream",
          "name": "stdout",
          "text": [
            "true\n",
            "false\n"
          ]
        }
      ]
    },
    {
      "cell_type": "code",
      "source": [
        "stry = input(\" please enter a number :\")\n",
        "list3 = []\n",
        "for i in range(0,len(stry)):\n",
        "    list3.append(stry[i])\n",
        "for j in range(0,len(list3)):\n",
        "    if i == 0:\n",
        "        if list3[0] == list3[-1]:\n",
        "            H = True\n",
        "    else:\n",
        "        if list3[i] == list3[-i-1]:\n",
        "            H = True\n",
        "        else:\n",
        "            H = False\n",
        "            break\n",
        "print(H)"
      ],
      "metadata": {
        "id": "rGOYL5aHK4Xz"
      },
      "execution_count": null,
      "outputs": []
    },
    {
      "cell_type": "code",
      "source": [],
      "metadata": {
        "id": "2X7_9arrNa5j"
      },
      "execution_count": null,
      "outputs": []
    }
  ]
}