{
 "cells": [
  {
   "cell_type": "code",
   "execution_count": 14,
   "id": "2eb113ef",
   "metadata": {},
   "outputs": [
    {
     "name": "stdout",
     "output_type": "stream",
     "text": [
      "Enter a string :mahmoud\n",
      "mhod\n",
      "the length of the string is : 7\n"
     ]
    }
   ],
   "source": [
    "#taking only characters that's odd has index \n",
    "str1 = input(\"Enter a string :\")\n",
    "print(str1[::2])\n",
    "print(\"the length of the string is :\", len(str1))"
   ]
  },
  {
   "cell_type": "code",
   "execution_count": 35,
   "id": "e25b9189",
   "metadata": {},
   "outputs": [
    {
     "name": "stdout",
     "output_type": "stream",
     "text": [
      "Enter a string :mahmoud\n",
      "' m '\n",
      "' h '\n",
      "' o '\n",
      "' d '\n"
     ]
    }
   ],
   "source": [
    "#taking only characters that's odd has index\n",
    "str1 = input(\"Enter a string :\")\n",
    "l = len(str1)\n",
    "for i in range(0,l) :\n",
    "    h = i%2\n",
    "    if i == 0 or h == 0 :\n",
    "        print(\"\\'\",str1[i],\"\\'\")\n",
    "    "
   ]
  },
  {
   "cell_type": "code",
   "execution_count": 109,
   "id": "0bbc9f54",
   "metadata": {},
   "outputs": [
    {
     "name": "stdout",
     "output_type": "stream",
     "text": [
      "amming\n",
      "gramming\n"
     ]
    }
   ],
   "source": [
    "str1 = \"programming\"\n",
    "str2 = \"\"\n",
    "str3 = \"\"\n",
    "\n",
    "\n",
    "b = 5\n",
    "c = len(str1)\n",
    "li5 = [0]\n",
    "for i in range(0,c):\n",
    "    li5.append(str1[i])\n",
    "li7 = li5[:]\n",
    "for i in range(0,b+1):\n",
    "    li5.pop(0)\n",
    "k = len(li5)\n",
    "for i in range(0,k):\n",
    "    str2 += li5[i]\n",
    "print(str2)\n",
    "\n",
    "\n",
    "b=3\n",
    "for i in range(0,b+1):\n",
    "    li7.pop(0)\n",
    "k = len(li7)\n",
    "for i in range(0,k):\n",
    "    str3 += li7[i]\n",
    "print(str3)"
   ]
  },
  {
   "cell_type": "code",
   "execution_count": 115,
   "id": "bc18cf9b",
   "metadata": {},
   "outputs": [
    {
     "name": "stdout",
     "output_type": "stream",
     "text": [
      "Enter a string :programming\n",
      "Enter a number :3\n",
      "gramming\n"
     ]
    }
   ],
   "source": [
    "#a function thats removes the frist letters of the entered string\n",
    "def remstr(s , n ):\n",
    "    newstr = \"\"\n",
    "    for i in range(0 , len(s)):\n",
    "        #igonors the characters from the start to the enterd number\n",
    "        if i >= n :\n",
    "            newstr += s[i]\n",
    "    return newstr\n",
    "\n",
    "str1 = input(\"Enter a string :\")\n",
    "num = int(input(\"Enter a number :\"))\n",
    "\n",
    "print(remstr(str1,num))"
   ]
  },
  {
   "cell_type": "code",
   "execution_count": 158,
   "id": "b090a799",
   "metadata": {},
   "outputs": [
    {
     "name": "stdout",
     "output_type": "stream",
     "text": [
      "[5, 4, 3, 2, 1]\n"
     ]
    }
   ],
   "source": [
    "list1 = [1,2,3,4,5]\n",
    "list3 = []\n",
    "for i in range(1,len(list1)+1):\n",
    "    list3.append(list1[-i])\n",
    "print(list3)"
   ]
  },
  {
   "cell_type": "code",
   "execution_count": null,
   "id": "5bf9df46",
   "metadata": {},
   "outputs": [],
   "source": []
  },
  {
   "cell_type": "code",
   "execution_count": null,
   "id": "3ec3ec51",
   "metadata": {},
   "outputs": [],
   "source": []
  }
 ],
 "metadata": {
  "kernelspec": {
   "display_name": "Python 3",
   "language": "python",
   "name": "python3"
  },
  "language_info": {
   "codemirror_mode": {
    "name": "ipython",
    "version": 3
   },
   "file_extension": ".py",
   "mimetype": "text/x-python",
   "name": "python",
   "nbconvert_exporter": "python",
   "pygments_lexer": "ipython3",
   "version": "3.8.8"
  }
 },
 "nbformat": 4,
 "nbformat_minor": 5
}
