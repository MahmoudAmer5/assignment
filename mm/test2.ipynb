{
 "cells": [
  {
   "cell_type": "code",
   "execution_count": 18,
   "id": "ea40db68",
   "metadata": {},
   "outputs": [
    {
     "name": "stdout",
     "output_type": "stream",
     "text": [
      "enter the 1st number please :40\n",
      "enter the 2nd number please :30\n",
      "the sum of the 2 numbers is :  70\n",
      "the multiplication of the 2 numbers is :  1200\n"
     ]
    }
   ],
   "source": [
    "num1 = int(input(\"enter the 1st number please :\"))\n",
    "num2 = int(input(\"enter the 2nd number please :\"))\n",
    "def sum1(n1 , n2 ):\n",
    "    x = n1 + n2 \n",
    "    return x\n",
    "def mult1(n1 , n2 ):\n",
    "    x = n1 * n2 \n",
    "    return x\n",
    "print(\"the sum of the 2 numbers is : \", sum1(num1,num2))\n",
    "print(\"the multiplication of the 2 numbers is : \", mult1(num1,num2))"
   ]
  },
  {
   "cell_type": "code",
   "execution_count": 20,
   "id": "2bd270e5",
   "metadata": {},
   "outputs": [
    {
     "name": "stdout",
     "output_type": "stream",
     "text": [
      "enter the 1st number please :40\n",
      "enter the 2nd number please :30\n",
      "the sum of the 2 numbers is :  70\n"
     ]
    }
   ],
   "source": [
    "num1 = int(input(\"enter the 1st number please :\"))\n",
    "num2 = int(input(\"enter the 2nd number please :\"))\n",
    "def sum1(n1 , n2 ):\n",
    "    x = n1 + n2 \n",
    "    return x\n",
    "def mult1(n1 , n2 ):\n",
    "    x = n1 * n2 \n",
    "    return x\n",
    "if mult1(num1,num2)<= 1000:\n",
    "    print(\"the multiplication of the 2 numbers is : \", mult1(num1,num2))\n",
    "else:\n",
    "     print(\"the sum of the 2 numbers is : \", sum1(num1,num2))\n"
   ]
  },
  {
   "cell_type": "code",
   "execution_count": 64,
   "id": "ae6e9769",
   "metadata": {},
   "outputs": [
    {
     "name": "stdout",
     "output_type": "stream",
     "text": [
      "the currant number :  1\n",
      "the previos number :  0\n",
      "the sum of the currant numbers :  1\n",
      "the sum of the previos numbers :  0\n",
      "\n",
      "the currant number :  2\n",
      "the previos number :  1\n",
      "the sum of the currant numbers :  3\n",
      "the sum of the previos numbers :  1\n",
      "\n",
      "the currant number :  3\n",
      "the previos number :  2\n",
      "the sum of the currant numbers :  6\n",
      "the sum of the previos numbers :  3\n",
      "\n",
      "the currant number :  4\n",
      "the previos number :  3\n",
      "the sum of the currant numbers :  10\n",
      "the sum of the previos numbers :  6\n",
      "\n",
      "the currant number :  5\n",
      "the previos number :  4\n",
      "the sum of the currant numbers :  15\n",
      "the sum of the previos numbers :  10\n",
      "\n",
      "the currant number :  6\n",
      "the previos number :  5\n",
      "the sum of the currant numbers :  21\n",
      "the sum of the previos numbers :  15\n",
      "\n",
      "the currant number :  7\n",
      "the previos number :  6\n",
      "the sum of the currant numbers :  28\n",
      "the sum of the previos numbers :  21\n",
      "\n",
      "the currant number :  8\n",
      "the previos number :  7\n",
      "the sum of the currant numbers :  36\n",
      "the sum of the previos numbers :  28\n",
      "\n",
      "the currant number :  9\n",
      "the previos number :  8\n",
      "the sum of the currant numbers :  45\n",
      "the sum of the previos numbers :  36\n",
      "\n",
      "the currant number :  10\n",
      "the previos number :  9\n",
      "the sum of the currant numbers :  55\n",
      "the sum of the previos numbers :  45\n",
      "\n"
     ]
    }
   ],
   "source": [
    "j = s = c = 0\n",
    "for i in range(1,11):\n",
    "    print(\"the currant number : \" , i)\n",
    "    print(\"the previos number : \" , i-1)\n",
    "    s += i\n",
    "    c = s - i\n",
    "    print(\"the sum of the currant numbers : \" , s)\n",
    "    print(\"the sum of the previos numbers : \" , c)\n",
    "    print(\"\")"
   ]
  },
  {
   "cell_type": "code",
   "execution_count": null,
   "id": "e2da296e",
   "metadata": {},
   "outputs": [],
   "source": []
  }
 ],
 "metadata": {
  "kernelspec": {
   "display_name": "Python 3",
   "language": "python",
   "name": "python3"
  },
  "language_info": {
   "codemirror_mode": {
    "name": "ipython",
    "version": 3
   },
   "file_extension": ".py",
   "mimetype": "text/x-python",
   "name": "python",
   "nbconvert_exporter": "python",
   "pygments_lexer": "ipython3",
   "version": "3.8.8"
  }
 },
 "nbformat": 4,
 "nbformat_minor": 5
}
